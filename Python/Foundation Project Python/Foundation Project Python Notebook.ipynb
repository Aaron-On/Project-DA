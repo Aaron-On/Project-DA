{
 "cells": [
  {
   "cell_type": "markdown",
   "metadata": {},
   "source": [
    "# Practice 1: Create a function to find which word occurs the most ? Check this function with the following paragraph\n",
    "\n",
    "# \"Friendship is one of the most important things in life. \n",
    "# Probably everybody has a few close friends who you met at school or university.\n",
    "# Nevertheless, I think that our life does consists of more significant things even than friendship.\n",
    "# For example, family and self-realisation are vital necessities of life at all times. \n",
    "# Firstly, a family has a significant influence on both upbringing and education of a child since early age.\"\n",
    "\n",
    "# Hints: Using text.split() to convert a paragraph into list of words"
   ]
  },
  {
   "cell_type": "code",
   "execution_count": 5,
   "metadata": {},
   "outputs": [
    {
     "name": "stdout",
     "output_type": "stream",
     "text": [
      "['times', 'does', 'consists', 'significant', 'since', 'influence', 'i', 'than', 'one', 'most', 'met', 'self-realisation', 'firstly', 'is', 'who', 'example', 'more', 'things', 'life', 'a', 'and', 'child', 'education', 'both', 'on', 'of', 'early', 'are', 'friends', 'in', 'important', 'you', 'at', 'probably', 'few', 'close', 'university', 'think', 'age', 'friendship', 'necessities', 'all', 'school', 'even', 'family', 'nevertheless', 'has', 'for', 'the', 'vital', 'or', 'our', 'that', 'everybody', 'upbringing']\n",
      "{'friendship': 2, 'is': 1, 'one': 1, 'of': 4, 'the': 1, 'most': 1, 'important': 1, 'things': 2, 'in': 1, 'life': 3, 'probably': 1, 'everybody': 1, 'has': 2, 'a': 4, 'few': 1, 'close': 1, 'friends': 1, 'who': 1, 'you': 1, 'met': 1, 'at': 2, 'school': 1, 'or': 1, 'university': 1, 'nevertheless': 1, 'i': 1, 'think': 1, 'that': 1, 'our': 1, 'does': 1, 'consists': 1, 'more': 1, 'significant': 2, 'even': 1, 'than': 1, 'for': 1, 'example': 1, 'family': 2, 'and': 2, 'self-realisation': 1, 'are': 1, 'vital': 1, 'necessities': 1, 'all': 1, 'times': 1, 'firstly': 1, 'influence': 1, 'on': 1, 'both': 1, 'upbringing': 1, 'education': 1, 'child': 1, 'since': 1, 'early': 1, 'age': 1}\n",
      "4\n",
      "of : 4\n",
      "a : 4\n"
     ]
    }
   ],
   "source": [
    "def fre(text):\n",
    "    #remove special characters, dot comma\n",
    "    remove_comma = text.replace(\",\", \"\")\n",
    "    remove_dot = remove_comma.replace(\".\", \"\")\n",
    "\n",
    "    #lower text in same style, split it and get into list          \n",
    "    words = remove_dot.lower().split()\n",
    "\n",
    "    #get a unique word in a list\n",
    "    words = list(words)\n",
    "    unique_words = list(set(words))\n",
    "\n",
    "    print(unique_words)\n",
    "\n",
    "    #create empty dictionary to include key and value\n",
    "    frequency = {}\n",
    "\n",
    "    #use loop to count occurance of each word in list\n",
    "    for word in words:\n",
    "        if word in frequency:\n",
    "            frequency[word] += 1\n",
    "        else :\n",
    "            frequency[word] = 1\n",
    "\n",
    "    print(frequency)\n",
    "\n",
    "    #find highest frequency\n",
    "    highest_frequency = max(frequency.values())\n",
    "    print(highest_frequency)\n",
    "    \n",
    "    #print key, frequency and highest frequency\n",
    "    for a in frequency:\n",
    "        if frequency[a] >= highest_frequency:\n",
    "            print(a, \":\", frequency[a])\n",
    "text =  \"Friendship is one of the most important things in life. Probably everybody has a few close friends who you met at school or university. Nevertheless, I think that our life does consists of more significant things even than friendship. For example, family and self-realisation are vital necessities of life at all times. Firstly, a family has a significant influence on both upbringing and education of a child since early age.\"\n",
    "fre(text)"
   ]
  },
  {
   "cell_type": "markdown",
   "metadata": {},
   "source": [
    "# Practice 2: Count the unique words of the following text\n",
    "\n",
    "# \"Friendship is one of the greatest bonds anyone can ever wish for. \\\n",
    "# Lucky are those who have friends they can trust. Friendship is a devoted relationship between two individuals.\\ \n",
    "# They both feel immense care and love for each other. \\\n",
    "# Usually, a friendship is shared by two people who have similar interests and feelings\""
   ]
  },
  {
   "cell_type": "code",
   "execution_count": 8,
   "metadata": {},
   "outputs": [
    {
     "name": "stdout",
     "output_type": "stream",
     "text": [
      "{'relationship': 1, 'and': 2, 'who': 2, 'for': 2, 'usually': 1, 'immense': 1, 'love': 1, 'feelings': 1, 'other': 1, 'between': 1, 'can': 2, 'two': 2, 'have': 2, 'both': 1, 'feel': 1, 'a': 2, 'the': 1, 'are': 1, 'shared': 1, 'people': 1, 'friendship': 3, 'care': 1, 'ever': 1, 'wish': 1, 'similar': 1, 'greatest': 1, 'bonds': 1, 'lucky': 1, 'of': 1, 'is': 3, 'trust': 1, 'one': 1, 'they': 2, 'friends': 1, 'individuals': 1, 'by': 1, 'interests': 1, 'those': 1, 'anyone': 1, 'each': 1, 'devoted': 1}\n",
      "31\n"
     ]
    }
   ],
   "source": [
    "def uni(text):\n",
    "    #remove comma, dot in text\n",
    "    remove_comma = text.replace(\",\", \"\")\n",
    "    remove_dot = remove_comma.replace(\".\", \"\")\n",
    "\n",
    "    #lower text in same style, split it and get into list          \n",
    "    words = remove_dot.lower().split()\n",
    "    \n",
    "    #get a unique word in a list\n",
    "    words = list(words)\n",
    "    unique_words = list(set(words))\n",
    "    frequency = {}\n",
    "    diction_word = {}\n",
    "\n",
    "    #use loop to count occurance of each word in list\n",
    "    for word in unique_words:\n",
    "        frequency[word] =words.count(word)\n",
    "        diction_word.setdefault(word, frequency[word])\n",
    "    print(diction_word)\n",
    "    \n",
    "    #count unique word, have a occurane = 1 in text\n",
    "    count = 0\n",
    "    for a in diction_word:\n",
    "        if diction_word[a] == 1:\n",
    "            count  += 1\n",
    "    print(count)\n",
    "text = \"Friendship is one of the greatest bonds anyone can ever wish for. Lucky are those who have friends they can trust. Friendship is a devoted relationship between two individuals. They both feel immense care and love for each other. Usually, a friendship is shared by two people who have similar interests and feelings\"\n",
    "uni(text)"
   ]
  },
  {
   "cell_type": "markdown",
   "metadata": {},
   "source": [
    "# Practice 3 Find the number or prime number from the following list\n",
    "\n",
    "# [1, 7, 6, 9, 13, 21, 27]"
   ]
  },
  {
   "cell_type": "code",
   "execution_count": 6,
   "metadata": {},
   "outputs": [
    {
     "name": "stdout",
     "output_type": "stream",
     "text": [
      "1 is not the prime nunmber\n",
      "7  is the prime number\n",
      "6  is not the prime number\n",
      "9  is not the prime number\n",
      "13  is the prime number\n",
      "21  is not the prime number\n",
      "27  is not the prime number\n"
     ]
    }
   ],
   "source": [
    "def prime(a):\n",
    "    #use loop for array\n",
    "    for x in a:\n",
    "\n",
    "    # examine x with 0 and 1 cases\n",
    "        if x == 0 or x == 1:\n",
    "            print(x, \"is not the prime nunmber\")\n",
    "\n",
    "    #examine x >1 case, in this case have 2 cases, divide for another num, the another one is prime\n",
    "        elif x > 1:\n",
    "            for i in range (2, x):\n",
    "                if (x % i == 0) : \n",
    "                    print(x, \" is not the prime number\")\n",
    "                    break\n",
    "            else :\n",
    "                print(x, \" is the prime number\")\n",
    "                \n",
    "    # the remained is not prime\n",
    "        else:\n",
    "            print(x, \" is not the print number\")\n",
    "a = [1, 7, 6, 9, 13, 21, 27]\n",
    "prime(a)"
   ]
  },
  {
   "cell_type": "markdown",
   "metadata": {},
   "source": [
    "# Practice 4: Check if these two couples of sentences (Sentence 1 & 2, Sentence 3 & 4) are anagrams or not\n",
    "\n",
    "# Sentence 1 = \"listen to the silent whispers\"\n",
    "\n",
    "# Sentence 2 = \"silent whispers to the listen\"\n",
    "\n",
    "# Sentence 3 = \"listen to the silent night\"\n",
    "\n",
    "# Sentence 4 = \"silent whispers to the listen\"\n",
    "\n",
    "# Hints: How to convert a sentence into list of characters"
   ]
  },
  {
   "cell_type": "code",
   "execution_count": 23,
   "metadata": {},
   "outputs": [
    {
     "name": "stdout",
     "output_type": "stream",
     "text": [
      "Two sentences are not anagrams\n"
     ]
    }
   ],
   "source": [
    "\n",
    "sentence_1 = \"listen to the silent whispers\"\n",
    "\n",
    "sentence_2 = \"silent whispers to the listen\"\n",
    "\n",
    "sentence_3 = \"listen to the silent night\"\n",
    "\n",
    "sentence_4 = \"silent whispers to the listen\"\n",
    "#sorted text list\n",
    "def text_transform(text):\n",
    "  # text format\n",
    "  text = text.lower()\n",
    "  text = text.replace('.','').replace(',','').replace('?','').replace('!','')\n",
    "  # convert text to list and sort\n",
    "  text_list = text.split()\n",
    "  text_list = sorted(text_list)\n",
    "  return text_list\n",
    "\n",
    "#check anagrams\n",
    "def check_anagrams(text1, text2):\n",
    "    if text_transform(text1) == text_transform(text2):\n",
    "      print ('Two sentences are anagrams')\n",
    "    else:\n",
    "      print ('Two sentences are not anagrams')  \n",
    "\n",
    "check_anagrams(sentence_3, sentence_4)"
   ]
  },
  {
   "cell_type": "markdown",
   "metadata": {},
   "source": [
    "# \"Practice 5 (Optional): Anna is submitting a requirement on a platform. \n",
    "# Howerver, there are limitations about the number of words and number of characters for the submission. \n",
    "# Particularly, the number of world should be under 50 words, and number of character should be under 200 characters.\"\n",
    "# Please help Anna create a function to do this and check this function with the following submissions !\n",
    "\n",
    "# Submission 1: \"I am very excited about the opportunity to work with your company. \n",
    "# My skills in data analysis and programming make me confident that I would be a valuable addition to your team. \n",
    "# I look forward to the chance to contribute and grow with your company.\n",
    "# Submission 2: \"I recently bought this product, and I must say, I'm really impressed. \n",
    "# The quality is exceptional, and it works just as advertised. \n",
    "# I especially appreciate the ease of use, which makes it perfect for both beginners and experts. \n",
    "# I would definitely recommend it to others who are looking for something similar.\"\n"
   ]
  },
  {
   "cell_type": "code",
   "execution_count": 28,
   "metadata": {},
   "outputs": [
    {
     "name": "stdout",
     "output_type": "stream",
     "text": [
      "Number of character should be under 200. Current number of characters: 245\n",
      "\n",
      "Numbers of words and characters are over the rule , please check it again!\n"
     ]
    }
   ],
   "source": [
    "submission_1 = \"I am very excited about the opportunity to work with your company. My skills in data analysis and programming make me confident that I would be a valuable addition to your team. I look forward to the chance to contribute and grow with your company.\"\n",
    "\n",
    "submission_2 =  \"I recently bought this product, and I must say, I'm really impressed. The quality is exceptional, and it works just as advertised. I especially appreciate the ease of use, which makes it perfect for both beginners and experts. I would definitely recommend it to others who are looking for something similar.\"\n",
    "#remove dot, comma in text\n",
    "def submission_validation(text):\n",
    "    text = text.lower()\n",
    "    text = text.replace('.','').replace(',','').replace('?','').replace('!','')\n",
    "\n",
    "    #count word in paragraph\n",
    "    word_list = text.split()\n",
    "    count_word = len(word_list)\n",
    "\n",
    "    #count character in paragraph\n",
    "    count_character = len(list(text))\n",
    "\n",
    "    #notification for each condition\n",
    "    if count_word <= 50 and count_character <= 200:\n",
    "        print(\"Submission approved!\")\n",
    "    elif count_word > 50 and count_character <= 200:\n",
    "        print(\"Number of words should be under 50 . Current number of words: \" + str(count_word))\n",
    "    elif count_word <= 50 and count_character > 200:\n",
    "        print(\"Number of character should be under 200. Current number of characters: \" + str(count_character))\n",
    "    else:\n",
    "        print(\"Numbers of words and characters are over the rule , please check it again!\")\n",
    "\n",
    "#print results\n",
    "submission_validation(submission_1)\n",
    "\n",
    "print('')\n",
    "\n",
    "submission_validation(submission_2)"
   ]
  }
 ],
 "metadata": {
  "kernelspec": {
   "display_name": "Python 3",
   "language": "python",
   "name": "python3"
  },
  "language_info": {
   "codemirror_mode": {
    "name": "ipython",
    "version": 3
   },
   "file_extension": ".py",
   "mimetype": "text/x-python",
   "name": "python",
   "nbconvert_exporter": "python",
   "pygments_lexer": "ipython3",
   "version": "3.11.4"
  }
 },
 "nbformat": 4,
 "nbformat_minor": 2
}
