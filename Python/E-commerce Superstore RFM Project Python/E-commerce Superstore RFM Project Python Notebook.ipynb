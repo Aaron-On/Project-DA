{
 "cells": [
  {
   "cell_type": "code",
   "execution_count": 134,
   "metadata": {},
   "outputs": [],
   "source": [
    "import numpy as np\n",
    "import pandas as pd\n",
    "import seaborn as sns\n",
    "import matplotlib.pyplot as plt\n",
    "import datetime as dt\n",
    "import warnings\n",
    "warnings.filterwarnings('ignore')\n",
    "#import excel file\n",
    "ecommerce_retail = pd.read_excel(\n",
    "    r'C:\\\\Users\\\\Admin\\\\Desktop\\\\DA books\\\\DA lesson\\\\Python\\\\Final_project_RFM\\\\ecommerce retail.xlsx'\n",
    ")"
   ]
  },
  {
   "cell_type": "code",
   "execution_count": 135,
   "metadata": {},
   "outputs": [
    {
     "name": "stdout",
     "output_type": "stream",
     "text": [
      "<class 'pandas.core.frame.DataFrame'>\n",
      "RangeIndex: 541909 entries, 0 to 541908\n",
      "Data columns (total 8 columns):\n",
      " #   Column       Non-Null Count   Dtype         \n",
      "---  ------       --------------   -----         \n",
      " 0   InvoiceNo    541909 non-null  object        \n",
      " 1   StockCode    541909 non-null  object        \n",
      " 2   Description  540455 non-null  object        \n",
      " 3   Quantity     541909 non-null  int64         \n",
      " 4   InvoiceDate  541909 non-null  datetime64[ns]\n",
      " 5   UnitPrice    541909 non-null  float64       \n",
      " 6   CustomerID   406829 non-null  float64       \n",
      " 7   Country      541909 non-null  object        \n",
      "dtypes: datetime64[ns](1), float64(2), int64(1), object(4)\n",
      "memory usage: 33.1+ MB\n",
      "None\n"
     ]
    }
   ],
   "source": [
    "#check missing values, data type\n",
    "print(ecommerce_retail.info())  "
   ]
  },
  {
   "cell_type": "code",
   "execution_count": 136,
   "metadata": {},
   "outputs": [
    {
     "name": "stdout",
     "output_type": "stream",
     "text": [
      "Number of missing values in: \n",
      "InvoiceNo           0\n",
      "StockCode           0\n",
      "Description      1454\n",
      "Quantity            0\n",
      "InvoiceDate         0\n",
      "UnitPrice           0\n",
      "CustomerID     135080\n",
      "Country             0\n",
      "dtype: int64\n"
     ]
    }
   ],
   "source": [
    "#Count number of missing values\n",
    "print(\"Number of missing values in: \")\n",
    "\n",
    "print(ecommerce_retail.isna().sum())"
   ]
  },
  {
   "cell_type": "code",
   "execution_count": 137,
   "metadata": {},
   "outputs": [],
   "source": [
    "#Remove null valuese in Customer ID\n",
    "ecommerce_retail= ecommerce_retail.drop(\n",
    "    ecommerce_retail[ecommerce_retail['CustomerID'].isna()].index, axis = 0\n",
    ")"
   ]
  },
  {
   "cell_type": "code",
   "execution_count": 138,
   "metadata": {},
   "outputs": [
    {
     "name": "stdout",
     "output_type": "stream",
     "text": [
      "Number of missing values in: \n",
      "InvoiceNo      0\n",
      "StockCode      0\n",
      "Description    0\n",
      "Quantity       0\n",
      "InvoiceDate    0\n",
      "UnitPrice      0\n",
      "CustomerID     0\n",
      "Country        0\n",
      "dtype: int64\n"
     ]
    }
   ],
   "source": [
    "#Recheck missing values\n",
    "print(\"Number of missing values in: \")\n",
    "\n",
    "print(ecommerce_retail.isna().sum())"
   ]
  },
  {
   "cell_type": "code",
   "execution_count": 139,
   "metadata": {},
   "outputs": [
    {
     "name": "stdout",
     "output_type": "stream",
     "text": [
      "<class 'pandas.core.frame.DataFrame'>\n",
      "Index: 406829 entries, 0 to 541908\n",
      "Data columns (total 8 columns):\n",
      " #   Column       Non-Null Count   Dtype         \n",
      "---  ------       --------------   -----         \n",
      " 0   InvoiceNo    406829 non-null  string        \n",
      " 1   StockCode    406829 non-null  string        \n",
      " 2   Description  406829 non-null  string        \n",
      " 3   Quantity     406829 non-null  int64         \n",
      " 4   InvoiceDate  406829 non-null  datetime64[ns]\n",
      " 5   UnitPrice    406829 non-null  float64       \n",
      " 6   CustomerID   406829 non-null  int64         \n",
      " 7   Country      406829 non-null  string        \n",
      "dtypes: datetime64[ns](1), float64(1), int64(2), string(4)\n",
      "memory usage: 27.9 MB\n",
      "None\n"
     ]
    }
   ],
   "source": [
    "\n",
    "#change data type\n",
    "column_list = ['InvoiceNo','StockCode','Description','Country']\n",
    "for c in column_list:\n",
    "     ecommerce_retail[c] = ecommerce_retail[c].astype('string')\n",
    "ecommerce_retail['CustomerID'] = ecommerce_retail['CustomerID'].astype(int) \n",
    "\n",
    "#Recheck data type\n",
    "print(ecommerce_retail.info())"
   ]
  },
  {
   "cell_type": "code",
   "execution_count": 140,
   "metadata": {},
   "outputs": [
    {
     "name": "stdout",
     "output_type": "stream",
     "text": [
      "            Quantity                    InvoiceDate      UnitPrice     CustomerID\n",
      "count  406829.000000                         406829  406829.000000  406829.000000\n",
      "mean       12.061303  2011-07-10 16:30:57.879207424       3.460471   15287.690570\n",
      "min    -80995.000000            2010-12-01 08:26:00       0.000000   12346.000000\n",
      "25%         2.000000            2011-04-06 15:02:00       1.250000   13953.000000\n",
      "50%         5.000000            2011-07-31 11:48:00       1.950000   15152.000000\n",
      "75%        12.000000            2011-10-20 13:06:00       3.750000   16791.000000\n",
      "max     80995.000000            2011-12-09 12:50:00   38970.000000   18287.000000\n",
      "std       248.693370                            NaN      69.315162    1713.600303\n"
     ]
    }
   ],
   "source": [
    "#check incorrect values, abnormal data, outliers\n",
    "pd.set_option('display.max_columns', None)  \n",
    "pd.set_option('display.width', 1000)\n",
    "\n",
    "print(ecommerce_retail.describe())"
   ]
  },
  {
   "cell_type": "code",
   "execution_count": 141,
   "metadata": {},
   "outputs": [
    {
     "name": "stdout",
     "output_type": "stream",
     "text": [
      "Empty DataFrame\n",
      "Columns: [InvoiceNo, StockCode, Description, Quantity, InvoiceDate, UnitPrice, CustomerID, Country]\n",
      "Index: []\n",
      "       InvoiceNo StockCode                       Description  Quantity         InvoiceDate  UnitPrice  CustomerID         Country\n",
      "141      C536379         D                          Discount        -1 2010-12-01 09:41:00      27.50       14527  United Kingdom\n",
      "154      C536383    35004C   SET OF 3 COLOURED  FLYING DUCKS        -1 2010-12-01 09:49:00       4.65       15311  United Kingdom\n",
      "235      C536391     22556    PLASTERS IN TIN CIRCUS PARADE        -12 2010-12-01 10:24:00       1.65       17548  United Kingdom\n",
      "236      C536391     21984  PACK OF 12 PINK PAISLEY TISSUES        -24 2010-12-01 10:24:00       0.29       17548  United Kingdom\n",
      "237      C536391     21983  PACK OF 12 BLUE PAISLEY TISSUES        -24 2010-12-01 10:24:00       0.29       17548  United Kingdom\n",
      "...          ...       ...                               ...       ...                 ...        ...         ...             ...\n",
      "540449   C581490     23144   ZINC T-LIGHT HOLDER STARS SMALL       -11 2011-12-09 09:57:00       0.83       14397  United Kingdom\n",
      "541541   C581499         M                            Manual        -1 2011-12-09 10:28:00     224.69       15498  United Kingdom\n",
      "541715   C581568     21258        VICTORIAN SEWING BOX LARGE        -5 2011-12-09 11:57:00      10.95       15311  United Kingdom\n",
      "541716   C581569     84978  HANGING HEART JAR T-LIGHT HOLDER        -1 2011-12-09 11:58:00       1.25       17315  United Kingdom\n",
      "541717   C581569     20979     36 PENCILS TUBE RED RETROSPOT        -5 2011-12-09 11:58:00       1.25       17315  United Kingdom\n",
      "\n",
      "[8905 rows x 8 columns]\n"
     ]
    }
   ],
   "source": [
    "#check negative values\n",
    "pd.set_option('display.max_columns', None)  \n",
    "pd.set_option('display.width', 1000)\n",
    "\n",
    "print(ecommerce_retail[ecommerce_retail['UnitPrice'] < 0])\n",
    "\n",
    "print(ecommerce_retail[ecommerce_retail['Quantity'] < 0])\n"
   ]
  },
  {
   "cell_type": "code",
   "execution_count": 142,
   "metadata": {},
   "outputs": [
    {
     "name": "stdout",
     "output_type": "stream",
     "text": [
      "0\n",
      "8905\n"
     ]
    }
   ],
   "source": [
    "#Count negative values in UnitPrice and Quantity\n",
    "print((ecommerce_retail['UnitPrice'] < 0).sum())\n",
    "\n",
    "print((ecommerce_retail['Quantity'] < 0).sum())\n"
   ]
  },
  {
   "cell_type": "code",
   "execution_count": 143,
   "metadata": {},
   "outputs": [],
   "source": [
    "#Drop negative values in UnitPrice and Quantity\n",
    "ecommerce_retail= ecommerce_retail.drop(\n",
    "    ecommerce_retail[ecommerce_retail['UnitPrice']< 0].index, axis = 0\n",
    ")\n",
    "\n",
    "ecommerce_retail= ecommerce_retail.drop(\n",
    "    ecommerce_retail[ecommerce_retail['Quantity']< 0].index, axis = 0\n",
    ")\n"
   ]
  },
  {
   "cell_type": "code",
   "execution_count": 144,
   "metadata": {},
   "outputs": [
    {
     "name": "stdout",
     "output_type": "stream",
     "text": [
      "0\n",
      "0\n"
     ]
    }
   ],
   "source": [
    "#Recheck negative values\n",
    "print((ecommerce_retail['UnitPrice'] < 0).sum())\n",
    "\n",
    "print((ecommerce_retail['Quantity'] < 0).sum())\n"
   ]
  },
  {
   "cell_type": "code",
   "execution_count": 145,
   "metadata": {},
   "outputs": [
    {
     "name": "stdout",
     "output_type": "stream",
     "text": [
      "            Quantity                    InvoiceDate      UnitPrice     CustomerID\n",
      "count  397924.000000                         397924  397924.000000  397924.000000\n",
      "mean       13.021823  2011-07-10 23:43:36.912475648       3.116174   15294.315171\n",
      "min         1.000000            2010-12-01 08:26:00       0.000000   12346.000000\n",
      "25%         2.000000            2011-04-07 11:12:00       1.250000   13969.000000\n",
      "50%         6.000000            2011-07-31 14:39:00       1.950000   15159.000000\n",
      "75%        12.000000            2011-10-20 14:33:00       3.750000   16795.000000\n",
      "max     80995.000000            2011-12-09 12:50:00    8142.750000   18287.000000\n",
      "std       180.420210                            NaN      22.096788    1713.169877\n"
     ]
    }
   ],
   "source": [
    "#Recheck incorrect values, abnormal data, outliers\n",
    "pd.set_option('display.max_columns', None)  \n",
    "pd.set_option('display.width', 1000)\n",
    "\n",
    "print(ecommerce_retail.describe())"
   ]
  },
  {
   "cell_type": "code",
   "execution_count": 146,
   "metadata": {},
   "outputs": [
    {
     "name": "stdout",
     "output_type": "stream",
     "text": [
      "0\n",
      "0\n"
     ]
    }
   ],
   "source": [
    "#Recheck negative values in UnitPrice and Quantity\n",
    "print((ecommerce_retail['UnitPrice'] < 0).sum())\n",
    "print((ecommerce_retail['Quantity'] < 0).sum())\n"
   ]
  },
  {
   "cell_type": "code",
   "execution_count": 147,
   "metadata": {},
   "outputs": [
    {
     "name": "stdout",
     "output_type": "stream",
     "text": [
      "Number of duplicates is: 5192\n"
     ]
    }
   ],
   "source": [
    "#Count number of duplicates\n",
    "print(\"Number of duplicates is: \" + str(ecommerce_retail.duplicated().sum()))"
   ]
  },
  {
   "cell_type": "code",
   "execution_count": 148,
   "metadata": {},
   "outputs": [
    {
     "name": "stdout",
     "output_type": "stream",
     "text": [
      "Number of duplicates is: 0\n",
      "       InvoiceNo StockCode                          Description  Quantity         InvoiceDate  UnitPrice  CustomerID         Country\n",
      "0         536365    85123A   WHITE HANGING HEART T-LIGHT HOLDER         6 2010-12-01 08:26:00       2.55       17850  United Kingdom\n",
      "1         536365     71053                  WHITE METAL LANTERN         6 2010-12-01 08:26:00       3.39       17850  United Kingdom\n",
      "2         536365    84406B       CREAM CUPID HEARTS COAT HANGER         8 2010-12-01 08:26:00       2.75       17850  United Kingdom\n",
      "3         536365    84029G  KNITTED UNION FLAG HOT WATER BOTTLE         6 2010-12-01 08:26:00       3.39       17850  United Kingdom\n",
      "4         536365    84029E       RED WOOLLY HOTTIE WHITE HEART.         6 2010-12-01 08:26:00       3.39       17850  United Kingdom\n",
      "...          ...       ...                                  ...       ...                 ...        ...         ...             ...\n",
      "541904    581587     22613          PACK OF 20 SPACEBOY NAPKINS        12 2011-12-09 12:50:00       0.85       12680          France\n",
      "541905    581587     22899         CHILDREN'S APRON DOLLY GIRL          6 2011-12-09 12:50:00       2.10       12680          France\n",
      "541906    581587     23254        CHILDRENS CUTLERY DOLLY GIRL          4 2011-12-09 12:50:00       4.15       12680          France\n",
      "541907    581587     23255      CHILDRENS CUTLERY CIRCUS PARADE         4 2011-12-09 12:50:00       4.15       12680          France\n",
      "541908    581587     22138        BAKING SET 9 PIECE RETROSPOT          3 2011-12-09 12:50:00       4.95       12680          France\n",
      "\n",
      "[387880 rows x 8 columns]\n"
     ]
    }
   ],
   "source": [
    "#remove duplicates, check duplicates again\n",
    "ecommerce_retail_removedup = ecommerce_retail.drop_duplicates(\n",
    "    [\"InvoiceNo\", \"StockCode\",\"InvoiceDate\",\"CustomerID\"], keep = 'first'\n",
    ")\n",
    "\n",
    "print(\"Number of duplicates is: \" + str(ecommerce_retail_removedup.duplicated().sum()))\n",
    "\n",
    "pd.set_option('display.max_columns', None)  \n",
    "pd.set_option('display.width', 1000)\n",
    "\n",
    "print(ecommerce_retail_removedup)"
   ]
  },
  {
   "cell_type": "code",
   "execution_count": 149,
   "metadata": {},
   "outputs": [
    {
     "name": "stdout",
     "output_type": "stream",
     "text": [
      "Number of cancel Invoice is: 0\n",
      "<class 'pandas.core.frame.DataFrame'>\n",
      "Index: 387880 entries, 0 to 541908\n",
      "Data columns (total 8 columns):\n",
      " #   Column       Non-Null Count   Dtype         \n",
      "---  ------       --------------   -----         \n",
      " 0   InvoiceNo    387880 non-null  string        \n",
      " 1   StockCode    387880 non-null  string        \n",
      " 2   Description  387880 non-null  string        \n",
      " 3   Quantity     387880 non-null  int64         \n",
      " 4   InvoiceDate  387880 non-null  datetime64[ns]\n",
      " 5   UnitPrice    387880 non-null  float64       \n",
      " 6   CustomerID   387880 non-null  int64         \n",
      " 7   Country      387880 non-null  string        \n",
      "dtypes: datetime64[ns](1), float64(1), int64(2), string(4)\n",
      "memory usage: 26.6 MB\n",
      "None\n"
     ]
    }
   ],
   "source": [
    "#Check number of cancelled Invoice\n",
    "print(\"Number of cancel Invoice is: \" + str((ecommerce_retail_removedup['InvoiceNo'].str.contains(\"^C\")).sum()))\n",
    "\n",
    "print(ecommerce_retail_removedup.info())"
   ]
  },
  {
   "cell_type": "code",
   "execution_count": 150,
   "metadata": {},
   "outputs": [
    {
     "name": "stdout",
     "output_type": "stream",
     "text": [
      "      CustomerID  Recency  Frequency  Monetary\n",
      "0          12346      346          1  77183.60\n",
      "1          12347       23        182   4310.00\n",
      "2          12348       96         27   1595.64\n",
      "3          12349       39         73   1757.55\n",
      "4          12350      331         17    334.40\n",
      "...          ...      ...        ...       ...\n",
      "4334       18280      298         10    180.60\n",
      "4335       18281      201          7     80.82\n",
      "4336       18282       28         12    178.05\n",
      "4337       18283       24        689   1970.28\n",
      "4338       18287       63         68   1797.68\n",
      "\n",
      "[4339 rows x 4 columns]\n",
      "<class 'pandas.core.frame.DataFrame'>\n",
      "RangeIndex: 4339 entries, 0 to 4338\n",
      "Data columns (total 4 columns):\n",
      " #   Column      Non-Null Count  Dtype  \n",
      "---  ------      --------------  -----  \n",
      " 0   CustomerID  4339 non-null   int64  \n",
      " 1   Recency     4339 non-null   int64  \n",
      " 2   Frequency   4339 non-null   int64  \n",
      " 3   Monetary    4339 non-null   float64\n",
      "dtypes: float64(1), int64(3)\n",
      "memory usage: 135.7 KB\n",
      "None\n"
     ]
    }
   ],
   "source": [
    "#date for Recency at 31-12-2011\n",
    "date_R = dt.datetime(2011,12,31)\n",
    "\n",
    "#Calculate Revenue\n",
    "ecommerce_retail_removedup['Total_revenue'] = ecommerce_retail_removedup['Quantity'] * ecommerce_retail_removedup['UnitPrice']\n",
    "\n",
    "#RFM model\n",
    "RFM_model = ecommerce_retail_removedup.groupby('CustomerID').agg(\n",
    "    Recency = ('InvoiceDate', lambda x: (date_R - x.max()).days),\n",
    "    Frequency = ('InvoiceNo', lambda x: x.count()),\n",
    "    Monetary = ('Total_revenue', lambda x: x.sum())\n",
    ").reset_index()\n",
    "\n",
    "print(RFM_model)\n",
    "print(RFM_model.info())"
   ]
  },
  {
   "cell_type": "code",
   "execution_count": 151,
   "metadata": {},
   "outputs": [
    {
     "name": "stdout",
     "output_type": "stream",
     "text": [
      "      CustomerID  Recency  Frequency  Monetary Recency_Score Frequency_Score Monetary_Score  RFM_Score\n",
      "0          12346      346          1  77183.60             1               1              5        115\n",
      "1          12347       23        182   4310.00             5               5              5        555\n",
      "2          12348       96         27   1595.64             2               2              4        224\n",
      "3          12349       39         73   1757.55             4               4              4        444\n",
      "4          12350      331         17    334.40             1               2              2        122\n",
      "...          ...      ...        ...       ...           ...             ...            ...        ...\n",
      "4334       18280      298         10    180.60             1               1              1        111\n",
      "4335       18281      201          7     80.82             1               1              1        111\n",
      "4336       18282       28         12    178.05             5               1              1        511\n",
      "4337       18283       24        689   1970.28             5               5              4        554\n",
      "4338       18287       63         68   1797.68             3               4              4        344\n",
      "\n",
      "[4339 rows x 8 columns]\n",
      "<class 'pandas.core.frame.DataFrame'>\n",
      "RangeIndex: 4339 entries, 0 to 4338\n",
      "Data columns (total 8 columns):\n",
      " #   Column           Non-Null Count  Dtype   \n",
      "---  ------           --------------  -----   \n",
      " 0   CustomerID       4339 non-null   int64   \n",
      " 1   Recency          4339 non-null   int64   \n",
      " 2   Frequency        4339 non-null   int64   \n",
      " 3   Monetary         4339 non-null   float64 \n",
      " 4   Recency_Score    4339 non-null   category\n",
      " 5   Frequency_Score  4339 non-null   category\n",
      " 6   Monetary_Score   4339 non-null   category\n",
      " 7   RFM_Score        4339 non-null   int64   \n",
      "dtypes: category(3), float64(1), int64(4)\n",
      "memory usage: 183.0 KB\n",
      "None\n"
     ]
    }
   ],
   "source": [
    "# rank RFM marks\n",
    "# RFM_model= RFM_model.sort_values(['Recency', 'Frequency', 'Monetary'], ascending=(True, False, False))\n",
    "RFM_model['Recency_Score'] = pd.qcut(RFM_model['Recency'], q = 5, labels=[5,4,3,2,1])\n",
    "RFM_model['Frequency_Score'] = pd.qcut(RFM_model['Frequency'], q = 5, labels=[1,2,3,4,5])\n",
    "RFM_model['Monetary_Score'] = pd.qcut(RFM_model['Monetary'], q = 5, labels=[1,2,3,4,5])\n",
    "\n",
    "#Calculate RFM Score\n",
    "RFM_model['RFM_Score'] = (\n",
    "    RFM_model['Recency_Score'].astype(str) + RFM_model['Frequency_Score'].astype(str) + RFM_model['Monetary_Score'].astype(str)\n",
    ")\n",
    "RFM_model['RFM_Score'] = RFM_model['RFM_Score'].astype(int)\n",
    "\n",
    "pd.set_option('display.max_columns', None)  \n",
    "pd.set_option('display.width', 1000)\n",
    "print(RFM_model)\n",
    "print(RFM_model.info())"
   ]
  },
  {
   "cell_type": "code",
   "execution_count": 152,
   "metadata": {},
   "outputs": [
    {
     "data": {
      "text/plain": [
       "<Axes: xlabel='Recency'>"
      ]
     },
     "execution_count": 152,
     "metadata": {},
     "output_type": "execute_result"
    },
    {
     "data": {
      "image/png": "[encoded data removed]",
      "text/plain": [
       "<Figure size 640x480 with 1 Axes>"
      ]
     },
     "metadata": {},
     "output_type": "display_data"
    }
   ],
   "source": [
    "#Check outliers in Recency\n",
    "sns.boxplot(RFM_model, x = 'Recency')"
   ]
  },
  {
   "cell_type": "code",
   "execution_count": 153,
   "metadata": {},
   "outputs": [
    {
     "data": {
      "text/plain": [
       "<Axes: xlabel='Frequency'>"
      ]
     },
     "execution_count": 153,
     "metadata": {},
     "output_type": "execute_result"
    },
    {
     "data": {
      "image/png": "[encoded data removed]",
      "text/plain": [
       "<Figure size 640x480 with 1 Axes>"
      ]
     },
     "metadata": {},
     "output_type": "display_data"
    }
   ],
   "source": [
    "#Check outliers in Frequency\n",
    "sns.boxplot(RFM_model, x = 'Frequency')"
   ]
  },
  {
   "cell_type": "code",
   "execution_count": 154,
   "metadata": {},
   "outputs": [
    {
     "data": {
      "text/plain": [
       "<Axes: xlabel='Monetary'>"
      ]
     },
     "execution_count": 154,
     "metadata": {},
     "output_type": "execute_result"
    },
    {
     "data": {
      "image/png": "[encoded data removed]",
      "text/plain": [
       "<Figure size 640x480 with 1 Axes>"
      ]
     },
     "metadata": {},
     "output_type": "display_data"
    }
   ],
   "source": [
    "#Check outliers in Monetary\n",
    "sns.boxplot(RFM_model, x = 'Monetary')"
   ]
  },
  {
   "cell_type": "code",
   "execution_count": 155,
   "metadata": {},
   "outputs": [],
   "source": [
    "#Setup IQR, upper, lower point for Recency\n",
    "Seventy_fifth_R = RFM_model['Recency'].quantile(0.75)\n",
    "Twenty_fifth_R = RFM_model['Recency'].quantile(0.25)\n",
    "Recency_iqr = Seventy_fifth_R - Twenty_fifth_R\n",
    "Recency_upper = Seventy_fifth_R + (1.5 * Recency_iqr)\n",
    "Recency_lower = Twenty_fifth_R - (1.5 * Recency_iqr)\n",
    "\n",
    "#Setup IQR, upper, lower point for Frequency\n",
    "Seventy_fifth_F = RFM_model['Frequency'].quantile(0.75)\n",
    "Twenty_fifth_F = RFM_model['Frequency'].quantile(0.25)\n",
    "Frequency_iqr = Seventy_fifth_F - Twenty_fifth_F\n",
    "Frequency_upper = Seventy_fifth_F + (1.5 * Frequency_iqr)\n",
    "Frequency_lower = Twenty_fifth_F - (1.5 * Frequency_iqr)\n",
    "\n",
    "#Setup IQR, upper, lower point for Monetary\n",
    "Seventy_fifth_M = RFM_model['Monetary'].quantile(0.75)\n",
    "Twenty_fifth_M = RFM_model['Monetary'].quantile(0.25)\n",
    "Monetary_iqr = Seventy_fifth_M - Twenty_fifth_M\n",
    "Monetary_upper = Seventy_fifth_M + (1.5 * Monetary_iqr)\n",
    "Monetary_lower = Twenty_fifth_M - (1.5 * Monetary_iqr)\n",
    "\n",
    "#Remove Outliers\n",
    "RFM_model_remove_outliners = RFM_model[\n",
    "    (RFM_model['Recency'] > Recency_lower) \n",
    "          & (RFM_model['Recency'] < Recency_upper)\n",
    "     & (RFM_model['Frequency'] > Frequency_lower) \n",
    "          & (RFM_model['Frequency'] < Frequency_upper)\n",
    "     & (RFM_model['Monetary'] > Monetary_lower) \n",
    "          & (RFM_model['Monetary'] < Monetary_upper)\n",
    "]"
   ]
  },
  {
   "cell_type": "code",
   "execution_count": 156,
   "metadata": {},
   "outputs": [
    {
     "data": {
      "text/plain": [
       "<Axes: xlabel='Recency'>"
      ]
     },
     "execution_count": 156,
     "metadata": {},
     "output_type": "execute_result"
    },
    {
     "data": {
      "image/png": "[encoded data removed]",
      "text/plain": [
       "<Figure size 640x480 with 1 Axes>"
      ]
     },
     "metadata": {},
     "output_type": "display_data"
    }
   ],
   "source": [
    "#Recheck outliers in Recency\n",
    "sns.boxplot(RFM_model_remove_outliners, x = 'Recency')"
   ]
  },
  {
   "cell_type": "code",
   "execution_count": 157,
   "metadata": {},
   "outputs": [
    {
     "data": {
      "text/plain": [
       "<Axes: xlabel='Frequency'>"
      ]
     },
     "execution_count": 157,
     "metadata": {},
     "output_type": "execute_result"
    },
    {
     "data": {
      "image/png": "[encoded data removed]",
      "text/plain": [
       "<Figure size 640x480 with 1 Axes>"
      ]
     },
     "metadata": {},
     "output_type": "display_data"
    }
   ],
   "source": [
    "#Recheck outliers in Frequency\n",
    "sns.boxplot(RFM_model_remove_outliners, x = 'Frequency')"
   ]
  },
  {
   "cell_type": "code",
   "execution_count": 158,
   "metadata": {},
   "outputs": [
    {
     "data": {
      "text/plain": [
       "<Axes: xlabel='Monetary'>"
      ]
     },
     "execution_count": 158,
     "metadata": {},
     "output_type": "execute_result"
    },
    {
     "data": {
      "image/png": "[encoded data removed]",
      "text/plain": [
       "<Figure size 640x480 with 1 Axes>"
      ]
     },
     "metadata": {},
     "output_type": "display_data"
    }
   ],
   "source": [
    "#Recheck outliers in Monetary\n",
    "sns.boxplot(RFM_model_remove_outliners, x = 'Monetary')"
   ]
  },
  {
   "cell_type": "code",
   "execution_count": 159,
   "metadata": {},
   "outputs": [
    {
     "name": "stdout",
     "output_type": "stream",
     "text": [
      "                  Segment                                          RFM Score\n",
      "0               Champions                  555, 554, 544, 545, 454, 455, 445\n",
      "1                   Loyal             543, 444, 435, 355, 354, 345, 344, 335\n",
      "2      Potential Loyalist  553, 551, 552, 541, 542, 533, 532, 531, 452, 4...\n",
      "3           New Customers                  512, 511, 422, 421, 412, 411, 311\n",
      "4               Promising  525, 524, 523, 522, 521, 515, 514, 513, 425,42...\n",
      "5          Need Attention             535, 534, 443, 434, 343, 334, 325, 324\n",
      "6          About To Sleep             331, 321, 312, 221, 213, 231, 241, 251\n",
      "7                 At Risk  255, 254, 245, 244, 253, 252, 243, 242, 235, 2...\n",
      "8        Cannot Lose Them               155, 154, 144, 214,215,115, 114, 113\n",
      "9   Hibernating customers  332, 322, 233, 232, 223, 222, 132, 123, 122, 2...\n",
      "10         Lost customers                         111, 112, 121, 131,141,151\n"
     ]
    }
   ],
   "source": [
    "#import excel file, sheet 2\n",
    "Segmentation = pd.read_excel(\n",
    "    r'C:\\\\Users\\\\Admin\\\\Desktop\\\\DA books\\\\DA lesson\\\\Python\\\\Final_project_RFM\\\\ecommerce retail.xlsx', sheet_name = 'Segmentation'\n",
    ")\n",
    "print(Segmentation)"
   ]
  },
  {
   "cell_type": "code",
   "execution_count": 160,
   "metadata": {},
   "outputs": [
    {
     "name": "stdout",
     "output_type": "stream",
     "text": [
      "            Segment  RFM_Score\n",
      "0         Champions        555\n",
      "1         Champions        554\n",
      "2         Champions        544\n",
      "3         Champions        545\n",
      "4         Champions        454\n",
      "..              ...        ...\n",
      "120  Lost customers        112\n",
      "121  Lost customers        121\n",
      "122  Lost customers        131\n",
      "123  Lost customers        141\n",
      "124  Lost customers        151\n",
      "\n",
      "[125 rows x 2 columns]\n"
     ]
    }
   ],
   "source": [
    "# Split values\n",
    "Segmentation['RFM Score'] = Segmentation['RFM Score'].str.split(',')\n",
    "\n",
    "Segmentation_sepe = Segmentation.explode('RFM Score').reset_index(drop = True)\n",
    "Segmentation_sepe.rename(columns= {'RFM Score': 'RFM_Score'}, inplace= True)\n",
    "\n",
    "Segmentation_sepe['RFM_Score'] = Segmentation_sepe['RFM_Score'].astype(int)\n",
    "\n",
    "print(Segmentation_sepe)"
   ]
  },
  {
   "cell_type": "code",
   "execution_count": 161,
   "metadata": {},
   "outputs": [
    {
     "name": "stdout",
     "output_type": "stream",
     "text": [
      "      CustomerID  Recency  Frequency  Monetary Recency_Score Frequency_Score Monetary_Score  RFM_Score                Segment\n",
      "0          12348       96         27   1595.64             2               2              4        224                At Risk\n",
      "1          12349       39         73   1757.55             4               4              4        444                  Loyal\n",
      "2          12350      331         17    334.40             1               2              2        122  Hibernating customers\n",
      "3          12352       57         83   2042.24             3               4              4        344                  Loyal\n",
      "4          12353      225          4     89.00             1               1              1        111         Lost customers\n",
      "...          ...      ...        ...       ...           ...             ...            ...        ...                    ...\n",
      "3608       18278       94          9    173.90             2               1              1        211  Hibernating customers\n",
      "3609       18280      298         10    180.60             1               1              1        111         Lost customers\n",
      "3610       18281      201          7     80.82             1               1              1        111         Lost customers\n",
      "3611       18282       28         12    178.05             5               1              1        511          New Customers\n",
      "3612       18287       63         68   1797.68             3               4              4        344                  Loyal\n",
      "\n",
      "[3613 rows x 9 columns]\n"
     ]
    }
   ],
   "source": [
    "RFM_Seg = pd.merge(\n",
    "    RFM_model_remove_outliners, Segmentation_sepe, on= 'RFM_Score', how = 'inner'\n",
    ")\n",
    "\n",
    "pd.set_option('display.max_columns', None)  \n",
    "pd.set_option('display.width', 1000)\n",
    "\n",
    "print(RFM_Seg)"
   ]
  },
  {
   "cell_type": "code",
   "execution_count": 162,
   "metadata": {},
   "outputs": [
    {
     "name": "stdout",
     "output_type": "stream",
     "text": [
      "        CustomerID  Recency  Frequency  Monetary Recency_Score Frequency_Score Monetary_Score  RFM_Score                Segment         Country\n",
      "0            12348       96         27   1595.64             2               2              4        224                At Risk         Finland\n",
      "27           12349       39         73   1757.55             4               4              4        444                  Loyal           Italy\n",
      "100          12350      331         17    334.40             1               2              2        122  Hibernating customers          Norway\n",
      "117          12352       57         83   2042.24             3               4              4        344                  Loyal          Norway\n",
      "200          12353      225          4     89.00             1               1              1        111         Lost customers         Bahrain\n",
      "...            ...      ...        ...       ...           ...             ...            ...        ...                    ...             ...\n",
      "181729       18278       94          9    173.90             2               1              1        211  Hibernating customers  United Kingdom\n",
      "181738       18280      298         10    180.60             1               1              1        111         Lost customers  United Kingdom\n",
      "181748       18281      201          7     80.82             1               1              1        111         Lost customers  United Kingdom\n",
      "181755       18282       28         12    178.05             5               1              1        511          New Customers  United Kingdom\n",
      "181767       18287       63         68   1797.68             3               4              4        344                  Loyal  United Kingdom\n",
      "\n",
      "[3619 rows x 10 columns]\n"
     ]
    }
   ],
   "source": [
    "Cus_Seg = RFM_Seg.merge(\n",
    "    ecommerce_retail_removedup[['CustomerID','Country']], on ='CustomerID', how = 'inner'\n",
    ")\n",
    "Cus_Seg = Cus_Seg.drop_duplicates()\n",
    "pd.set_option('display.max_columns', None)  \n",
    "pd.set_option('display.width', 1000)\n",
    "\n",
    "print(Cus_Seg)"
   ]
  },
  {
   "cell_type": "code",
   "execution_count": 163,
   "metadata": {},
   "outputs": [
    {
     "name": "stdout",
     "output_type": "stream",
     "text": [
      "                  Segment  Number_of_Cus  Percentage\n",
      "0   Hibernating customers            782       21.61\n",
      "1      Potential Loyalist            508       14.04\n",
      "2                 At Risk            373       10.31\n",
      "3               Champions            355        9.81\n",
      "4                   Loyal            349        9.64\n",
      "5          Lost customers            327        9.04\n",
      "6           New Customers            307        8.48\n",
      "7          Need Attention            223        6.16\n",
      "8          About To Sleep            196        5.42\n",
      "9               Promising            126        3.48\n",
      "10       Cannot Lose Them             73        2.02\n",
      "                  Segment  Number_of_Cus  Percentage\n",
      "0   Hibernating customers            782       21.61\n",
      "1      Potential Loyalist            508       14.04\n",
      "2                 At Risk            373       10.31\n",
      "3               Champions            355        9.81\n",
      "4                   Loyal            349        9.64\n",
      "5          Lost customers            327        9.04\n",
      "6           New Customers            307        8.48\n",
      "7          Need Attention            223        6.16\n",
      "8          About To Sleep            196        5.42\n",
      "9               Promising            126        3.48\n",
      "10       Cannot Lose Them             73        2.02\n"
     ]
    }
   ],
   "source": [
    "#Customer Segmentations\n",
    "Customer_Segment = Cus_Seg['Segment'].value_counts().reset_index(name= 'Number_of_Cus')\n",
    "total_customers = Customer_Segment['Number_of_Cus'].sum()\n",
    "Customer_Segment['Percentage'] = (Customer_Segment['Number_of_Cus'] / total_customers) * 100.0\n",
    "Customer_Segment['Percentage'] = Customer_Segment['Percentage'].round(2)\n",
    "\n",
    "print(Customer_Segment)"
   ]
  },
  {
   "cell_type": "code",
   "execution_count": 164,
   "metadata": {},
   "outputs": [
    {
     "data": {
      "application/vnd.plotly.v1+json": {
       "config": {
        "plotlyServerURL": "https://plot.ly"
       },
       "data": [
        {
         "branchvalues": "total",
         "domain": {
          "x": [
           0,
           1
          ],
          "y": [
           0,
           1
          ]
         },
         "hovertemplate": "labels=%{label}<br>Percentage=%{value}<br>parent=%{parent}<br>id=%{id}<extra></extra>",
         "ids": [
          "About To Sleep",
          "At Risk",
          "Cannot Lose Them",
          "Champions",
          "Hibernating customers",
          "Lost customers",
          "Loyal",
          "Need Attention",
          "New Customers",
          "Potential Loyalist",
          "Promising"
         ],
         "labels": [
          "About To Sleep",
          "At Risk",
          "Cannot Lose Them",
          "Champions",
          "Hibernating customers",
          "Lost customers",
          "Loyal",
          "Need Attention",
          "New Customers",
          "Potential Loyalist",
          "Promising"
         ],
         "name": "",
         "parents": [
          "",
          "",
          "",
          "",
          "",
          "",
          "",
          "",
          "",
          "",
          ""
         ],
         "textinfo": "label+value",
         "texttemplate": "%{label}<br>%{value}%",
         "type": "treemap",
         "values": [
          5.42,
          10.31,
          2.02,
          9.81,
          21.61,
          9.04,
          9.64,
          6.16,
          8.48,
          14.04,
          3.48
         ]
        }
       ],
       "layout": {
        "legend": {
         "tracegroupgap": 0
        },
        "margin": {
         "b": 20,
         "l": 25,
         "r": 30,
         "t": 50
        },
        "template": {
         "data": {
          "bar": [
           {
            "error_x": {
             "color": "#2a3f5f"
            },
            "error_y": {
             "color": "#2a3f5f"
            },
            "marker": {
             "line": {
              "color": "#E5ECF6",
              "width": 0.5
             },
             "pattern": {
              "fillmode": "overlay",
              "size": 10,
              "solidity": 0.2
             }
            },
            "type": "bar"
           }
          ],
          "barpolar": [
           {
            "marker": {
             "line": {
              "color": "#E5ECF6",
              "width": 0.5
             },
             "pattern": {
              "fillmode": "overlay",
              "size": 10,
              "solidity": 0.2
             }
            },
            "type": "barpolar"
           }
          ],
          "carpet": [
           {
            "aaxis": {
             "endlinecolor": "#2a3f5f",
             "gridcolor": "white",
             "linecolor": "white",
             "minorgridcolor": "white",
             "startlinecolor": "#2a3f5f"
            },
            "baxis": {
             "endlinecolor": "#2a3f5f",
             "gridcolor": "white",
             "linecolor": "white",
             "minorgridcolor": "white",
             "startlinecolor": "#2a3f5f"
            },
            "type": "carpet"
           }
          ],
          "choropleth": [
           {
            "colorbar": {
             "outlinewidth": 0,
             "ticks": ""
            },
            "type": "choropleth"
           }
          ],
          "contour": [
           {
            "colorbar": {
             "outlinewidth": 0,
             "ticks": ""
            },
            "colorscale": [
             [
              0,
              "#0d0887"
             ],
             [
              0.1111111111111111,
              "#46039f"
             ],
             [
              0.2222222222222222,
              "#7201a8"
             ],
             [
              0.3333333333333333,
              "#9c179e"
             ],
             [
              0.4444444444444444,
              "#bd3786"
             ],
             [
              0.5555555555555556,
              "#d8576b"
             ],
             [
              0.6666666666666666,
              "#ed7953"
             ],
             [
              0.7777777777777778,
              "#fb9f3a"
             ],
             [
              0.8888888888888888,
              "#fdca26"
             ],
             [
              1,
              "#f0f921"
             ]
            ],
            "type": "contour"
           }
          ],
          "contourcarpet": [
           {
            "colorbar": {
             "outlinewidth": 0,
             "ticks": ""
            },
            "type": "contourcarpet"
           }
          ],
          "heatmap": [
           {
            "colorbar": {
             "outlinewidth": 0,
             "ticks": ""
            },
            "colorscale": [
             [
              0,
              "#0d0887"
             ],
             [
              0.1111111111111111,
              "#46039f"
             ],
             [
              0.2222222222222222,
              "#7201a8"
             ],
             [
              0.3333333333333333,
              "#9c179e"
             ],
             [
              0.4444444444444444,
              "#bd3786"
             ],
             [
              0.5555555555555556,
              "#d8576b"
             ],
             [
              0.6666666666666666,
              "#ed7953"
             ],
             [
              0.7777777777777778,
              "#fb9f3a"
             ],
             [
              0.8888888888888888,
              "#fdca26"
             ],
             [
              1,
              "#f0f921"
             ]
            ],
            "type": "heatmap"
           }
          ],
          "heatmapgl": [
           {
            "colorbar": {
             "outlinewidth": 0,
             "ticks": ""
            },
            "colorscale": [
             [
              0,
              "#0d0887"
             ],
             [
              0.1111111111111111,
              "#46039f"
             ],
             [
              0.2222222222222222,
              "#7201a8"
             ],
             [
              0.3333333333333333,
              "#9c179e"
             ],
             [
              0.4444444444444444,
              "#bd3786"
             ],
             [
              0.5555555555555556,
              "#d8576b"
             ],
             [
              0.6666666666666666,
              "#ed7953"
             ],
             [
              0.7777777777777778,
              "#fb9f3a"
             ],
             [
              0.8888888888888888,
              "#fdca26"
             ],
             [
              1,
              "#f0f921"
             ]
            ],
            "type": "heatmapgl"
           }
          ],
          "histogram": [
           {
            "marker": {
             "pattern": {
              "fillmode": "overlay",
              "size": 10,
              "solidity": 0.2
             }
            },
            "type": "histogram"
           }
          ],
          "histogram2d": [
           {
            "colorbar": {
             "outlinewidth": 0,
             "ticks": ""
            },
            "colorscale": [
             [
              0,
              "#0d0887"
             ],
             [
              0.1111111111111111,
              "#46039f"
             ],
             [
              0.2222222222222222,
              "#7201a8"
             ],
             [
              0.3333333333333333,
              "#9c179e"
             ],
             [
              0.4444444444444444,
              "#bd3786"
             ],
             [
              0.5555555555555556,
              "#d8576b"
             ],
             [
              0.6666666666666666,
              "#ed7953"
             ],
             [
              0.7777777777777778,
              "#fb9f3a"
             ],
             [
              0.8888888888888888,
              "#fdca26"
             ],
             [
              1,
              "#f0f921"
             ]
            ],
            "type": "histogram2d"
           }
          ],
          "histogram2dcontour": [
           {
            "colorbar": {
             "outlinewidth": 0,
             "ticks": ""
            },
            "colorscale": [
             [
              0,
              "#0d0887"
             ],
             [
              0.1111111111111111,
              "#46039f"
             ],
             [
              0.2222222222222222,
              "#7201a8"
             ],
             [
              0.3333333333333333,
              "#9c179e"
             ],
             [
              0.4444444444444444,
              "#bd3786"
             ],
             [
              0.5555555555555556,
              "#d8576b"
             ],
             [
              0.6666666666666666,
              "#ed7953"
             ],
             [
              0.7777777777777778,
              "#fb9f3a"
             ],
             [
              0.8888888888888888,
              "#fdca26"
             ],
             [
              1,
              "#f0f921"
             ]
            ],
            "type": "histogram2dcontour"
           }
          ],
          "mesh3d": [
           {
            "colorbar": {
             "outlinewidth": 0,
             "ticks": ""
            },
            "type": "mesh3d"
           }
          ],
          "parcoords": [
           {
            "line": {
             "colorbar": {
              "outlinewidth": 0,
              "ticks": ""
             }
            },
            "type": "parcoords"
           }
          ],
          "pie": [
           {
            "automargin": true,
            "type": "pie"
           }
          ],
          "scatter": [
           {
            "fillpattern": {
             "fillmode": "overlay",
             "size": 10,
             "solidity": 0.2
            },
            "type": "scatter"
           }
          ],
          "scatter3d": [
           {
            "line": {
             "colorbar": {
              "outlinewidth": 0,
              "ticks": ""
             }
            },
            "marker": {
             "colorbar": {
              "outlinewidth": 0,
              "ticks": ""
             }
            },
            "type": "scatter3d"
           }
          ],
          "scattercarpet": [
           {
            "marker": {
             "colorbar": {
              "outlinewidth": 0,
              "ticks": ""
             }
            },
            "type": "scattercarpet"
           }
          ],
          "scattergeo": [
           {
            "marker": {
             "colorbar": {
              "outlinewidth": 0,
              "ticks": ""
             }
            },
            "type": "scattergeo"
           }
          ],
          "scattergl": [
           {
            "marker": {
             "colorbar": {
              "outlinewidth": 0,
              "ticks": ""
             }
            },
            "type": "scattergl"
           }
          ],
          "scattermapbox": [
           {
            "marker": {
             "colorbar": {
              "outlinewidth": 0,
              "ticks": ""
             }
            },
            "type": "scattermapbox"
           }
          ],
          "scatterpolar": [
           {
            "marker": {
             "colorbar": {
              "outlinewidth": 0,
              "ticks": ""
             }
            },
            "type": "scatterpolar"
           }
          ],
          "scatterpolargl": [
           {
            "marker": {
             "colorbar": {
              "outlinewidth": 0,
              "ticks": ""
             }
            },
            "type": "scatterpolargl"
           }
          ],
          "scatterternary": [
           {
            "marker": {
             "colorbar": {
              "outlinewidth": 0,
              "ticks": ""
             }
            },
            "type": "scatterternary"
           }
          ],
          "surface": [
           {
            "colorbar": {
             "outlinewidth": 0,
             "ticks": ""
            },
            "colorscale": [
             [
              0,
              "#0d0887"
             ],
             [
              0.1111111111111111,
              "#46039f"
             ],
             [
              0.2222222222222222,
              "#7201a8"
             ],
             [
              0.3333333333333333,
              "#9c179e"
             ],
             [
              0.4444444444444444,
              "#bd3786"
             ],
             [
              0.5555555555555556,
              "#d8576b"
             ],
             [
              0.6666666666666666,
              "#ed7953"
             ],
             [
              0.7777777777777778,
              "#fb9f3a"
             ],
             [
              0.8888888888888888,
              "#fdca26"
             ],
             [
              1,
              "#f0f921"
             ]
            ],
            "type": "surface"
           }
          ],
          "table": [
           {
            "cells": {
             "fill": {
              "color": "#EBF0F8"
             },
             "line": {
              "color": "white"
             }
            },
            "header": {
             "fill": {
              "color": "#C8D4E3"
             },
             "line": {
              "color": "white"
             }
            },
            "type": "table"
           }
          ]
         },
         "layout": {
          "annotationdefaults": {
           "arrowcolor": "#2a3f5f",
           "arrowhead": 0,
           "arrowwidth": 1
          },
          "autotypenumbers": "strict",
          "coloraxis": {
           "colorbar": {
            "outlinewidth": 0,
            "ticks": ""
           }
          },
          "colorscale": {
           "diverging": [
            [
             0,
             "#8e0152"
            ],
            [
             0.1,
             "#c51b7d"
            ],
            [
             0.2,
             "#de77ae"
            ],
            [
             0.3,
             "#f1b6da"
            ],
            [
             0.4,
             "#fde0ef"
            ],
            [
             0.5,
             "#f7f7f7"
            ],
            [
             0.6,
             "#e6f5d0"
            ],
            [
             0.7,
             "#b8e186"
            ],
            [
             0.8,
             "#7fbc41"
            ],
            [
             0.9,
             "#4d9221"
            ],
            [
             1,
             "#276419"
            ]
           ],
           "sequential": [
            [
             0,
             "#0d0887"
            ],
            [
             0.1111111111111111,
             "#46039f"
            ],
            [
             0.2222222222222222,
             "#7201a8"
            ],
            [
             0.3333333333333333,
             "#9c179e"
            ],
            [
             0.4444444444444444,
             "#bd3786"
            ],
            [
             0.5555555555555556,
             "#d8576b"
            ],
            [
             0.6666666666666666,
             "#ed7953"
            ],
            [
             0.7777777777777778,
             "#fb9f3a"
            ],
            [
             0.8888888888888888,
             "#fdca26"
            ],
            [
             1,
             "#f0f921"
            ]
           ],
           "sequentialminus": [
            [
             0,
             "#0d0887"
            ],
            [
             0.1111111111111111,
             "#46039f"
            ],
            [
             0.2222222222222222,
             "#7201a8"
            ],
            [
             0.3333333333333333,
             "#9c179e"
            ],
            [
             0.4444444444444444,
             "#bd3786"
            ],
            [
             0.5555555555555556,
             "#d8576b"
            ],
            [
             0.6666666666666666,
             "#ed7953"
            ],
            [
             0.7777777777777778,
             "#fb9f3a"
            ],
            [
             0.8888888888888888,
             "#fdca26"
            ],
            [
             1,
             "#f0f921"
            ]
           ]
          },
          "colorway": [
           "#636efa",
           "#EF553B",
           "#00cc96",
           "#ab63fa",
           "#FFA15A",
           "#19d3f3",
           "#FF6692",
           "#B6E880",
           "#FF97FF",
           "#FECB52"
          ],
          "font": {
           "color": "#2a3f5f"
          },
          "geo": {
           "bgcolor": "white",
           "lakecolor": "white",
           "landcolor": "#E5ECF6",
           "showlakes": true,
           "showland": true,
           "subunitcolor": "white"
          },
          "hoverlabel": {
           "align": "left"
          },
          "hovermode": "closest",
          "mapbox": {
           "style": "light"
          },
          "paper_bgcolor": "white",
          "plot_bgcolor": "#E5ECF6",
          "polar": {
           "angularaxis": {
            "gridcolor": "white",
            "linecolor": "white",
            "ticks": ""
           },
           "bgcolor": "#E5ECF6",
           "radialaxis": {
            "gridcolor": "white",
            "linecolor": "white",
            "ticks": ""
           }
          },
          "scene": {
           "xaxis": {
            "backgroundcolor": "#E5ECF6",
            "gridcolor": "white",
            "gridwidth": 2,
            "linecolor": "white",
            "showbackground": true,
            "ticks": "",
            "zerolinecolor": "white"
           },
           "yaxis": {
            "backgroundcolor": "#E5ECF6",
            "gridcolor": "white",
            "gridwidth": 2,
            "linecolor": "white",
            "showbackground": true,
            "ticks": "",
            "zerolinecolor": "white"
           },
           "zaxis": {
            "backgroundcolor": "#E5ECF6",
            "gridcolor": "white",
            "gridwidth": 2,
            "linecolor": "white",
            "showbackground": true,
            "ticks": "",
            "zerolinecolor": "white"
           }
          },
          "shapedefaults": {
           "line": {
            "color": "#2a3f5f"
           }
          },
          "ternary": {
           "aaxis": {
            "gridcolor": "white",
            "linecolor": "white",
            "ticks": ""
           },
           "baxis": {
            "gridcolor": "white",
            "linecolor": "white",
            "ticks": ""
           },
           "bgcolor": "#E5ECF6",
           "caxis": {
            "gridcolor": "white",
            "linecolor": "white",
            "ticks": ""
           }
          },
          "title": {
           "x": 0.05
          },
          "xaxis": {
           "automargin": true,
           "gridcolor": "white",
           "linecolor": "white",
           "ticks": "",
           "title": {
            "standoff": 15
           },
           "zerolinecolor": "white",
           "zerolinewidth": 2
          },
          "yaxis": {
           "automargin": true,
           "gridcolor": "white",
           "linecolor": "white",
           "ticks": "",
           "title": {
            "standoff": 15
           },
           "zerolinecolor": "white",
           "zerolinewidth": 2
          }
         }
        },
        "title": {
         "text": "% Distribution of Customer by Segmentation"
        }
       }
      }
     },
     "metadata": {},
     "output_type": "display_data"
    }
   ],
   "source": [
    "#Customer Segmentation treemap  \n",
    "import plotly.express as px\n",
    "\n",
    "fig = px.treemap(\n",
    "    Customer_Segment, \n",
    "    path = ['Segment'], values = 'Percentage',\n",
    "    title = '% Distribution of Customer by Segmentation'\n",
    ")\n",
    "\n",
    "fig.update_traces(textinfo='label+value')\n",
    "fig.update_layout(margin = dict(t = 50,l = 25, r = 30, b = 20))\n",
    "fig.update_traces(texttemplate='%{label}<br>%{value}%')\n",
    "\n",
    "fig.show()"
   ]
  },
  {
   "cell_type": "code",
   "execution_count": 165,
   "metadata": {},
   "outputs": [
    {
     "name": "stdout",
     "output_type": "stream",
     "text": [
      "                          Recency             Frequency              Monetary                 \n",
      "                             mean  min  max        mean min  max         mean     min      max\n",
      "Segment                                                                                       \n",
      "About To Sleep         107.908163   54  198   21.816327   1   79   278.656735   36.56   877.44\n",
      "At Risk                169.556452   93  347   71.645161  14  214  1255.806452  254.71  3638.41\n",
      "Cannot Lose Them       226.438356   94  339   48.301370   1  191  1386.973986  516.42  3619.22\n",
      "Champions               32.748588   21   53  124.542373  58  214  2112.696723  926.03  3649.10\n",
      "Hibernating customers  162.859155   54  343   23.140845   1   57   400.558785   13.30   925.35\n",
      "Lost customers         274.801223  201  347   11.480122   1   71   173.182936    3.75   463.95\n",
      "Loyal                   57.268012   22   92   95.504323  31  209  1690.882305  497.98  3627.77\n",
      "Need Attention          53.644144   21   92   57.486486  15  117  1135.529550  487.99  3528.34\n",
      "New Customers           49.449511   22   92   11.123779   1   29   205.540358    0.00   484.82\n",
      "Potential Loyalist      49.055118   21   92   59.015748  14  206   577.454589  118.98   925.85\n",
      "Promising               37.579365   21   92   17.214286   2   29   900.218730  114.34  3515.68\n"
     ]
    }
   ],
   "source": [
    "category = RFM_Seg[[\"Segment\",\"Recency\",\"Frequency\", \"Monetary\"]].groupby('Segment').agg([\"mean\", \"min\", \"max\"])\n",
    "\n",
    "pd.set_option('display.max_columns', None)  \n",
    "pd.set_option('display.width', 1000)\n",
    "\n",
    "print(category)"
   ]
  },
  {
   "cell_type": "markdown",
   "metadata": {},
   "source": [
    "# As can be seen from the chart to analyse current company'state\n",
    "# -Hibernating Customers occupy the highest density in this plot (21.61%), followed by the number of customer who are Potential Loyalist (14.04%), showing a potential chance for growth of company in loyal segment. While Loyay Customers, New Customers and Champions share nearly similar proportion (about 9.64%, 8.48% and 9.81% respectively), this group is important for enhancing the company'sustainability and growth. In contrast the number of At Risk customers have a quite high density (about 10.31%).\n",
    "\n",
    "# -Although the number of valuable customers, including potential, loyal and new customers help for steady growth , we need to pay attention on At Risk and Need Attention Customer for posing some approriate stategies to prevent increasing churn rate.\n",
    "\n",
    "# -Potential Loyalist have high frequency (mean at 59) while have the low recency(mean at 49) =>  paying attention for converting them a loyal customer could be a priority . Besides, Hibernating still be at high rate, frequency (mean at 23) , Recency (nearly 162) indicate that they used to be a loyal or valuable customers but recently they have no any transaction => be focus on.\n",
    "\n",
    "# => Current state of company still be sustainable, the rate of valuable customers occupy at high density to ensure the growth of company, while the number of At risk customers show a high proportion that could lead to increasing churn rate, followed by other group such as need attention or hibernating customer , having negative effect for trustworthy of company \n"
   ]
  },
  {
   "cell_type": "markdown",
   "metadata": {},
   "source": [
    "# #Suggest for Marketing and Sales team retail model, should we focus on R, F or M metric in RFM model:\n",
    "# For retail company, R and F should be prioritized as key metrics for them. These metris provide insights how recently customers have returned and  how often they buy in order to have appropriate campaigns for company.\n",
    "\n",
    "# Firstly, for Potential Loyalist, we can see that they have high frequency over long-term period with low recency , we should make a survey for evaluating their satisfaction, give more promotion code, discount voucher with free shipping fee to increase their loyalness, encourage them to buy more products for converting them loyal customers.\n",
    "\n",
    "# Secondly, for At Risk Customers, we need to analyse several reasons that lead to churness or being less active. Then,  proposing promotion program or customer appprciation with buy one get one event in order to engage them.\n",
    "\n",
    "# Thirdly, Hibernating customers had high frequency  long-term period in the past, but recently they have no activity. We should have customer apppreciation program for welcoming back, promotion code ,reactivation discount and reviewing customer care , special gifts in special days like New Year or Christmas day for getting customers back."
   ]
  }
 ],
 "metadata": {
  "kernelspec": {
   "display_name": "Python 3",
   "language": "python",
   "name": "python3"
  },
  "language_info": {
   "codemirror_mode": {
    "name": "ipython",
    "version": 3
   },
   "file_extension": ".py",
   "mimetype": "text/x-python",
   "name": "python",
   "nbconvert_exporter": "python",
   "pygments_lexer": "ipython3",
   "version": "3.11.4"
  }
 },
 "nbformat": 4,
 "nbformat_minor": 2
}
